{
 "cells": [
  {
   "cell_type": "code",
   "execution_count": 1,
   "id": "04401464",
   "metadata": {},
   "outputs": [],
   "source": [
    "##importing the necessary libraries\n",
    "\n",
    "import numpy as np\n",
    "import pandas as pd\n",
    "import seaborn as sns\n",
    "import matplotlib.pyplot as plt\n",
    "import warnings\n",
    "warnings.filterwarnings('ignore')\n",
    "import copy\n",
    "import math\n",
    "from sklearn.preprocessing import StandardScaler\n",
    "from sklearn.model_selection import train_test_split\n",
    "from sklearn.linear_model import LinearRegression"
   ]
  },
  {
   "cell_type": "code",
   "execution_count": 2,
   "id": "9a2d0fff",
   "metadata": {},
   "outputs": [
    {
     "data": {
      "text/html": [
       "<div>\n",
       "<style scoped>\n",
       "    .dataframe tbody tr th:only-of-type {\n",
       "        vertical-align: middle;\n",
       "    }\n",
       "\n",
       "    .dataframe tbody tr th {\n",
       "        vertical-align: top;\n",
       "    }\n",
       "\n",
       "    .dataframe thead th {\n",
       "        text-align: right;\n",
       "    }\n",
       "</style>\n",
       "<table border=\"1\" class=\"dataframe\">\n",
       "  <thead>\n",
       "    <tr style=\"text-align: right;\">\n",
       "      <th></th>\n",
       "      <th>SAT</th>\n",
       "      <th>GPA</th>\n",
       "    </tr>\n",
       "  </thead>\n",
       "  <tbody>\n",
       "    <tr>\n",
       "      <th>0</th>\n",
       "      <td>1714</td>\n",
       "      <td>2.40</td>\n",
       "    </tr>\n",
       "    <tr>\n",
       "      <th>1</th>\n",
       "      <td>1664</td>\n",
       "      <td>2.52</td>\n",
       "    </tr>\n",
       "    <tr>\n",
       "      <th>2</th>\n",
       "      <td>1760</td>\n",
       "      <td>2.54</td>\n",
       "    </tr>\n",
       "    <tr>\n",
       "      <th>3</th>\n",
       "      <td>1685</td>\n",
       "      <td>2.74</td>\n",
       "    </tr>\n",
       "    <tr>\n",
       "      <th>4</th>\n",
       "      <td>1693</td>\n",
       "      <td>2.83</td>\n",
       "    </tr>\n",
       "  </tbody>\n",
       "</table>\n",
       "</div>"
      ],
      "text/plain": [
       "    SAT   GPA\n",
       "0  1714  2.40\n",
       "1  1664  2.52\n",
       "2  1760  2.54\n",
       "3  1685  2.74\n",
       "4  1693  2.83"
      ]
     },
     "execution_count": 2,
     "metadata": {},
     "output_type": "execute_result"
    }
   ],
   "source": [
    "##Reading the data \n",
    "data=pd.read_csv('4.2 1.01. Simple linear regression.csv')\n",
    "data.head()"
   ]
  },
  {
   "cell_type": "code",
   "execution_count": 3,
   "id": "572cabbe",
   "metadata": {},
   "outputs": [],
   "source": [
    "x=data.iloc[:,:-1].values\n",
    "y=data.iloc[:,1].values"
   ]
  },
  {
   "cell_type": "code",
   "execution_count": 4,
   "id": "22b699c8",
   "metadata": {},
   "outputs": [
    {
     "data": {
      "text/plain": [
       "<matplotlib.collections.PathCollection at 0x212ea567cd0>"
      ]
     },
     "execution_count": 4,
     "metadata": {},
     "output_type": "execute_result"
    },
    {
     "data": {
      "image/png": "[encoded data removed]",
      "text/plain": [
       "<Figure size 432x288 with 1 Axes>"
      ]
     },
     "metadata": {
      "needs_background": "light"
     },
     "output_type": "display_data"
    }
   ],
   "source": [
    "##Exploring our data\n",
    "plt.scatter(x,y)"
   ]
  },
  {
   "cell_type": "code",
   "execution_count": 5,
   "id": "7d2f2138",
   "metadata": {},
   "outputs": [],
   "source": [
    "#scaling the data so as to have both inputs and targets at the same range\n",
    "scaler=StandardScaler()"
   ]
  },
  {
   "cell_type": "code",
   "execution_count": 6,
   "id": "383f102e",
   "metadata": {},
   "outputs": [],
   "source": [
    "x_scaled=scaler.fit_transform(x)\n",
    "y_scaled=scaler.fit_transform(y.reshape(-1,1))"
   ]
  },
  {
   "cell_type": "code",
   "execution_count": 7,
   "id": "b195b50f",
   "metadata": {},
   "outputs": [],
   "source": [
    "#splitting our data into train and test data\n",
    "x_train,x_test,y_train,y_test=train_test_split(x_scaled,y_scaled,test_size=0.8,random_state=44)"
   ]
  },
  {
   "cell_type": "code",
   "execution_count": 8,
   "id": "ee48b9e6",
   "metadata": {},
   "outputs": [],
   "source": [
    "## The code below is to compute the cost function, which is the mean-squared error. i.e, the sum of differences in the predicted\n",
    "## value and the actual target\n",
    "def compute_cost(x,y,w,b):\n",
    "    m=x.shape[0]\n",
    "    total_cost=0\n",
    "    for i in range(m):\n",
    "        f_wb=w*x[i]+b\n",
    "        cost=(f_wb-y[i])**2\n",
    "        cost_new=(1/(2*m))*cost\n",
    "        total_cost=total_cost+cost_new\n",
    "    return total_cost"
   ]
  },
  {
   "cell_type": "code",
   "execution_count": 9,
   "id": "256e3572",
   "metadata": {},
   "outputs": [
    {
     "name": "stdout",
     "output_type": "stream",
     "text": [
      "[1.31069685]\n"
     ]
    }
   ],
   "source": [
    "## testing our cost function with parameters w and b, where w=slope and b is the intercept \n",
    "w=2\n",
    "b=1\n",
    "cost=compute_cost(x_train,y_train,w,b)\n",
    "print(cost)"
   ]
  },
  {
   "cell_type": "code",
   "execution_count": 10,
   "id": "289e88ee",
   "metadata": {},
   "outputs": [],
   "source": [
    "## the code to compute change in slope at different instances of parameters w and b\n",
    "def compute_gradient(x,y,w,b):\n",
    "    m=x.shape[0]\n",
    "    dj_dw=0\n",
    "    dj_db=0\n",
    "    for i in range(m):\n",
    "        f_wb=w*x[i]+b\n",
    "        dj_dwi=(f_wb-y[i])*x[i]\n",
    "        dj_dbi=(f_wb-y[i])\n",
    "        dj_dw += dj_dwi\n",
    "        dj_db += dj_dbi\n",
    "    dj_dw=dj_dw/m\n",
    "    dj_db=dj_db/m\n",
    "    return dj_dw,dj_db"
   ]
  },
  {
   "cell_type": "code",
   "execution_count": 11,
   "id": "886544c5",
   "metadata": {},
   "outputs": [
    {
     "name": "stdout",
     "output_type": "stream",
     "text": [
      "(array([-0.95710155]), array([0.09347599]))\n"
     ]
    }
   ],
   "source": [
    "w_test1=0\n",
    "b_test1=0\n",
    "gradient=compute_gradient(x_train,y_train,w_test1,b_test1)\n",
    "print(gradient)"
   ]
  },
  {
   "cell_type": "code",
   "execution_count": 12,
   "id": "82d49b5f",
   "metadata": {},
   "outputs": [
    {
     "name": "stdout",
     "output_type": "stream",
     "text": [
      "(array([-0.75830421]), array([0.25625735]))\n"
     ]
    }
   ],
   "source": [
    "w_test2=0.2\n",
    "b_test2=0.2\n",
    "gradient=compute_gradient(x_train,y_train,w_test2,b_test2)\n",
    "print(gradient)"
   ]
  },
  {
   "cell_type": "code",
   "execution_count": 13,
   "id": "f158fcdc",
   "metadata": {},
   "outputs": [],
   "source": [
    "## code to get the best and global local minimum where w and b best fit the model. i.e, where cost function is closest to zero\n",
    "def compute_descent(x,y,w_in, b_in,cost_function,gradient_function,alpha,num_iters):\n",
    "    m=len(x)\n",
    "    w=copy.deepcopy(w_in)\n",
    "    b=b_in\n",
    "    j_history=[]\n",
    "    w_history=[]\n",
    "    for i in range(num_iters):\n",
    "        dj_dw,dj_db=gradient_function(x,y,w,b)\n",
    "        w=w-alpha*dj_dw\n",
    "        b=b-alpha*dj_db\n",
    "        if i < 100000:\n",
    "            cost=cost_function(x,y,w,b)\n",
    "            j_history.append(cost)\n",
    "        if i % math.ceil(num_iters/10)==0:\n",
    "            w_history.append(w)\n",
    "            print(f\"Iteration {i:4}: Cost {float(j_history[-1]):8.2f}   \")\n",
    "    return w, b, j_history, w_history"
   ]
  },
  {
   "cell_type": "code",
   "execution_count": 14,
   "id": "6639ed28",
   "metadata": {},
   "outputs": [
    {
     "name": "stdout",
     "output_type": "stream",
     "text": [
      "Iteration    0: Cost     0.63   \n",
      "Iteration  350: Cost     0.25   \n",
      "Iteration  700: Cost     0.25   \n",
      "Iteration 1050: Cost     0.25   \n",
      "Iteration 1400: Cost     0.25   \n",
      "Iteration 1750: Cost     0.25   \n",
      "Iteration 2100: Cost     0.25   \n",
      "Iteration 2450: Cost     0.25   \n",
      "Iteration 2800: Cost     0.25   \n",
      "Iteration 3150: Cost     0.25   \n",
      "w,b found by gradient descent: [0.82038235] [0.05919158]\n"
     ]
    }
   ],
   "source": [
    "initial_w = 0.\n",
    "initial_b = 0.\n",
    "iterations = 3500\n",
    "alpha = 0.01\n",
    "\n",
    "w,b,_,_ = compute_descent(x_train ,y_train,initial_w, initial_b, \n",
    "                     compute_cost, compute_gradient, alpha, iterations)\n",
    "print(\"w,b found by gradient descent:\", w, b)"
   ]
  },
  {
   "cell_type": "code",
   "execution_count": 15,
   "id": "c2cf8b8d",
   "metadata": {},
   "outputs": [],
   "source": [
    "## predictions on the training set\n",
    "m=x_train.shape[0]\n",
    "predicted=np.zeros(m)\n",
    "for i in range(m):\n",
    "    predicted[i]=w*x_train[i]+b"
   ]
  },
  {
   "cell_type": "code",
   "execution_count": 16,
   "id": "6051410a",
   "metadata": {},
   "outputs": [
    {
     "data": {
      "text/plain": [
       "<matplotlib.collections.PathCollection at 0x212ead273a0>"
      ]
     },
     "execution_count": 16,
     "metadata": {},
     "output_type": "execute_result"
    },
    {
     "data": {
      "image/png": "[encoded data removed]",
      "text/plain": [
       "<Figure size 432x288 with 1 Axes>"
      ]
     },
     "metadata": {
      "needs_background": "light"
     },
     "output_type": "display_data"
    }
   ],
   "source": [
    "# visualizing the predicted values and getting the best line of fit\n",
    "plt.plot(x_train, predicted, c = \"b\")\n",
    "\n",
    "# Create a scatter plot of the data. \n",
    "plt.scatter(x_train, y_train, marker='x', c='r')"
   ]
  },
  {
   "cell_type": "markdown",
   "id": "d09c30b3",
   "metadata": {},
   "source": [
    "    Now, we've seen the codes and those codes are what we can call the 'backend'. These are the codes that are running when we import the modules and libraries\n",
    "    The following lines of code will show you we are going to get the same results intuitively for parameters w and b."
   ]
  },
  {
   "cell_type": "code",
   "execution_count": 17,
   "id": "2ac672a5",
   "metadata": {},
   "outputs": [],
   "source": [
    "reg=LinearRegression()"
   ]
  },
  {
   "cell_type": "code",
   "execution_count": 18,
   "id": "770e2695",
   "metadata": {},
   "outputs": [
    {
     "data": {
      "text/plain": [
       "LinearRegression()"
      ]
     },
     "execution_count": 18,
     "metadata": {},
     "output_type": "execute_result"
    }
   ],
   "source": [
    "reg.fit(x_train,y_train)"
   ]
  },
  {
   "cell_type": "code",
   "execution_count": 19,
   "id": "cee07fe2",
   "metadata": {},
   "outputs": [
    {
     "data": {
      "text/plain": [
       "array([[0.82038235]])"
      ]
     },
     "execution_count": 19,
     "metadata": {},
     "output_type": "execute_result"
    }
   ],
   "source": [
    "reg.coef_"
   ]
  },
  {
   "cell_type": "code",
   "execution_count": 20,
   "id": "9c5d87ba",
   "metadata": {},
   "outputs": [
    {
     "data": {
      "text/plain": [
       "array([0.05919158])"
      ]
     },
     "execution_count": 20,
     "metadata": {},
     "output_type": "execute_result"
    }
   ],
   "source": [
    "reg.intercept_"
   ]
  },
  {
   "cell_type": "code",
   "execution_count": 21,
   "id": "1c168e85",
   "metadata": {},
   "outputs": [
    {
     "data": {
      "text/plain": [
       "<matplotlib.collections.PathCollection at 0x212eada01f0>"
      ]
     },
     "execution_count": 21,
     "metadata": {},
     "output_type": "execute_result"
    },
    {
     "data": {
      "image/png": "[encoded data removed]",
      "text/plain": [
       "<Figure size 432x288 with 1 Axes>"
      ]
     },
     "metadata": {
      "needs_background": "light"
     },
     "output_type": "display_data"
    }
   ],
   "source": [
    "plt.plot(x_train,reg.predict(x_train), c='b')\n",
    "plt.scatter(x_train,y_train, c='r')"
   ]
  },
  {
   "cell_type": "markdown",
   "id": "4581692e",
   "metadata": {},
   "source": [
    "# The linear regression equation\n",
    "y=b0+w*x\n",
    "where x is the input, b0 is intercept and w is the slope. we've gotten our w and b to be ~ 0.82 and 0.06 respectively.\n",
    "Therefore, the following equation can be written as:\n",
    "y=0.06+0.82*x\n",
    "\n",
    "Imagine a student wanting to know his/her gpa from her SAT scores and she inputs 2002. Note, we will have to scale 2002 as our w and b are results of scaled methods."
   ]
  },
  {
   "cell_type": "code",
   "execution_count": 28,
   "id": "1ca2aaf3",
   "metadata": {},
   "outputs": [],
   "source": [
    "new_x=np.array(2002)"
   ]
  },
  {
   "cell_type": "code",
   "execution_count": 31,
   "id": "792afef7",
   "metadata": {},
   "outputs": [
    {
     "name": "stdout",
     "output_type": "stream",
     "text": [
      "[[0.]]\n"
     ]
    }
   ],
   "source": [
    "new_scaled_x=scaler.fit_transform(new_x.reshape(-1,1))\n",
    "print(new_scaled_x)"
   ]
  },
  {
   "cell_type": "code",
   "execution_count": 32,
   "id": "eda3a1fd",
   "metadata": {},
   "outputs": [
    {
     "name": "stdout",
     "output_type": "stream",
     "text": [
      "[[0.6]]\n"
     ]
    }
   ],
   "source": [
    "y=0.6+(0.82*new_scaled_x)\n",
    "print(y)"
   ]
  },
  {
   "cell_type": "code",
   "execution_count": null,
   "id": "ffb0c4e0",
   "metadata": {},
   "outputs": [],
   "source": []
  },
  {
   "cell_type": "code",
   "execution_count": null,
   "id": "9c6896ad",
   "metadata": {},
   "outputs": [],
   "source": []
  },
  {
   "cell_type": "code",
   "execution_count": null,
   "id": "35f50864",
   "metadata": {},
   "outputs": [],
   "source": []
  },
  {
   "cell_type": "code",
   "execution_count": null,
   "id": "35973830",
   "metadata": {},
   "outputs": [],
   "source": []
  },
  {
   "cell_type": "code",
   "execution_count": null,
   "id": "66b5783e",
   "metadata": {},
   "outputs": [],
   "source": []
  }
 ],
 "metadata": {
  "kernelspec": {
   "display_name": "Python 3 (ipykernel)",
   "language": "python",
   "name": "python3"
  },
  "language_info": {
   "codemirror_mode": {
    "name": "ipython",
    "version": 3
   },
   "file_extension": ".py",
   "mimetype": "text/x-python",
   "name": "python",
   "nbconvert_exporter": "python",
   "pygments_lexer": "ipython3",
   "version": "3.9.12"
  }
 },
 "nbformat": 4,
 "nbformat_minor": 5
}
